{
  "nbformat": 4,
  "nbformat_minor": 0,
  "metadata": {
    "colab": {
      "name": "lab 2.ipynb",
      "provenance": [],
      "collapsed_sections": [],
      "authorship_tag": "ABX9TyMTtnN3F+DcBHXuhxR+dBjo",
      "include_colab_link": true
    },
    "kernelspec": {
      "name": "python3",
      "display_name": "Python 3"
    },
    "language_info": {
      "name": "python"
    }
  },
  "cells": [
    {
      "cell_type": "markdown",
      "metadata": {
        "id": "view-in-github",
        "colab_type": "text"
      },
      "source": [
        "<a href=\"https://colab.research.google.com/github/Gau-6426/NHAPMONPHANTICHDULIEUHOCSAU/blob/main/lab_2.ipynb\" target=\"_parent\"><img src=\"https://colab.research.google.com/assets/colab-badge.svg\" alt=\"Open In Colab\"/></a>"
      ]
    },
    {
      "cell_type": "code",
      "metadata": {
        "id": "fBdnTggr2Lqx"
      },
      "source": [
        "import pandas as pd\n",
        "import sys\n",
        "import seaborn as sns\n",
        "import matplotlib.pyplot as plt"
      ],
      "execution_count": null,
      "outputs": []
    },
    {
      "cell_type": "code",
      "metadata": {
        "id": "zhG2O2Qz5toS"
      },
      "source": [
        "# Truy cập vào trang web và lấy dữ liệu in ra kết quả \n",
        "def load_data(filename):\n",
        "  return pd.read_csv('https://raw.githubusercontent.com/huynhhoc/DataAnalystDeepLearning/main/Data/covid19/'+filename)\n",
        "dfcovid19 = load_data('countriessample.csv')\n",
        "dfcovid19.head()"
      ],
      "execution_count": null,
      "outputs": []
    },
    {
      "cell_type": "markdown",
      "metadata": {
        "id": "YyL7Cs5brEiF"
      },
      "source": [
        "Example 1:"
      ]
    },
    {
      "cell_type": "code",
      "metadata": {
        "id": "8o8OqMCfrIp1"
      },
      "source": [
        "%matplotlib inline\n",
        "%config InlineBackend.figure_format = 'svg'\n",
        "sns.heatmap(dfcovid19.isna(), yticklabels=False, cbar=True, cmap='viridis')\n",
        "# lỗi web 400 nên chạy sẽ báo lỗi "
      ],
      "execution_count": null,
      "outputs": []
    },
    {
      "cell_type": "markdown",
      "metadata": {
        "id": "j7mLsBSGrNsl"
      },
      "source": [
        "Example 2: Thêm một chức năng cho mỗi cột khung dữ liệu dataframe."
      ]
    },
    {
      "cell_type": "code",
      "metadata": {
        "id": "X6oIzbbsrXMx",
        "outputId": "47ca8b8d-f9a7-4461-c796-e9a5d494a9c1",
        "colab": {
          "base_uri": "https://localhost:8080/"
        }
      },
      "source": [
        "import pandas as pd\n",
        "\n",
        "# Tạo một khung dataframe\n",
        "df = pd.DataFrame({\n",
        "    'History': [76, 84, 68, 94],\n",
        "    'Math': [81, 67, 91, 86],\n",
        "    'English': [72, 93, 84, 76]\n",
        "}, index=['Sam', 'Greta', 'Mike', 'Emma'])\n",
        "\n",
        "# In ra dữ liệu từ khung dataframe\n",
        "print(\"Dữ liệu nguyên bản của dataframe:\\n\")\n",
        "print(df)\n",
        "\n",
        "# Chức năng đã được thêm vào \n",
        "def get_mean(scores):\n",
        "    return sum(scores)/len(scores)\n",
        "\n",
        "# Thêm điểm trung bình cho mỗi hs,sv \n",
        "result = df.apply(get_mean, axis=1)\n",
        "print(\"\\nKết quả áp dụng hàm trên từ dataframe:\\n\")\n",
        "print(result)"
      ],
      "execution_count": 5,
      "outputs": [
        {
          "output_type": "stream",
          "name": "stdout",
          "text": [
            "Dữ liệu nguyên bản của dataframe:\n",
            "\n",
            "       History  Math  English\n",
            "Sam         76    81       72\n",
            "Greta       84    67       93\n",
            "Mike        68    91       84\n",
            "Emma        94    86       76\n",
            "\n",
            "Kết quả áp dụng hàm trên từ dataframe:\n",
            "\n",
            "Sam      76.333333\n",
            "Greta    81.333333\n",
            "Mike     81.000000\n",
            "Emma     85.333333\n",
            "dtype: float64\n"
          ]
        }
      ]
    },
    {
      "cell_type": "markdown",
      "metadata": {
        "id": "KuEDooEfu7Tx"
      },
      "source": [
        "Example 3: Thêm một chức năng cho từng hàng(axis=1) của khung dữ liệu."
      ]
    },
    {
      "cell_type": "code",
      "metadata": {
        "id": "gx8bl_nBvWKu",
        "outputId": "dc6abf19-bf2e-4ce5-9a0a-f51f0acf41e6",
        "colab": {
          "base_uri": "https://localhost:8080/"
        }
      },
      "source": [
        "import pandas as pd\n",
        "\n",
        "# Tạo một khung dataframe\n",
        "df = pd.DataFrame({\n",
        "    'History': [76, 84, 68, 94],\n",
        "    'Math': [81, 67, 91, 86],\n",
        "    'English': [72, 93, 84, 76]\n",
        "}, index=['Sam', 'Greta', 'Mike', 'Emma'])\n",
        "\n",
        "# In ra dữ liệu từ khung dataframe\n",
        "print(\"Dữ liệu nguyên bản của dataframe:\\n\")\n",
        "print(df)\n",
        "\n",
        "# Chức năng đã được thêm vào \n",
        "def get_mean(scores):\n",
        "    return sum(scores)/len(scores)\n",
        "\n",
        "# Thêm điểm trung bình cho mỗi hs,sv \n",
        "result = df.apply(get_mean, axis=1)\n",
        "print(\"\\nKết quả áp dụng hàm trên từ dataframe:\\n\")\n",
        "print(result)"
      ],
      "execution_count": 4,
      "outputs": [
        {
          "output_type": "stream",
          "name": "stdout",
          "text": [
            "Dữ liệu nguyên bản của dataframe:\n",
            "\n",
            "       History  Math  English\n",
            "Sam         76    81       72\n",
            "Greta       84    67       93\n",
            "Mike        68    91       84\n",
            "Emma        94    86       76\n",
            "\n",
            "Kết quả áp dụng hàm trên từ dataframe:\n",
            "\n",
            "Sam      76.333333\n",
            "Greta    81.333333\n",
            "Mike     81.000000\n",
            "Emma     85.333333\n",
            "dtype: float64\n"
          ]
        }
      ]
    },
    {
      "cell_type": "markdown",
      "metadata": {
        "id": "IEeW2uiDyGvm"
      },
      "source": [
        "Example 4: Xác định chức năng chia thành quốc gia và khu vực."
      ]
    },
    {
      "cell_type": "code",
      "metadata": {
        "id": "-oQuewSiyYcZ"
      },
      "source": [
        "#Tạo hàm in ra tên quốc già và khu vực\n",
        "def split_name_series(string): \n",
        "  country, region=string.split(';') # tên trong country, region sẽ được tách ra thành một list\n",
        "  return pd.Series(\n",
        "      (country, region),\n",
        "      index='country, region'.split()\n",
        "  )"
      ],
      "execution_count": 7,
      "outputs": []
    },
    {
      "cell_type": "code",
      "metadata": {
        "id": "x_YKIazWzRin"
      },
      "source": [
        "def split_name(x_df):\n",
        "    # Lựa chọn tên vào cột và thêm một chức năng.\n",
        "    res=x_df['CountryRegion'].apply(split_name_series) # thêm hàm split_name_series vào x_df\n",
        "    x_df[res.columns]=res # Thêm res vào cột trong x_df\n",
        "    return x_df"
      ],
      "execution_count": 9,
      "outputs": []
    },
    {
      "cell_type": "markdown",
      "metadata": {
        "id": "JiZeXjZrMpay"
      },
      "source": [
        "Example5: Tách quốc gia và khu vực bằng hàm split_name_series ( ví dụ 4 )"
      ]
    },
    {
      "cell_type": "code",
      "metadata": {
        "id": "4sVdnUBAOOln",
        "outputId": "fa76bc00-3d47-48ac-84d3-8de4cbe0e7f7",
        "colab": {
          "base_uri": "https://localhost:8080/",
          "height": 654
        }
      },
      "source": [
        "res=load_data('countriessample.csv').pipe(split_name)\n",
        "res"
      ],
      "execution_count": 10,
      "outputs": [
        {
          "output_type": "execute_result",
          "data": {
            "text/html": [
              "<div>\n",
              "<style scoped>\n",
              "    .dataframe tbody tr th:only-of-type {\n",
              "        vertical-align: middle;\n",
              "    }\n",
              "\n",
              "    .dataframe tbody tr th {\n",
              "        vertical-align: top;\n",
              "    }\n",
              "\n",
              "    .dataframe thead th {\n",
              "        text-align: right;\n",
              "    }\n",
              "</style>\n",
              "<table border=\"1\" class=\"dataframe\">\n",
              "  <thead>\n",
              "    <tr style=\"text-align: right;\">\n",
              "      <th></th>\n",
              "      <th>Date</th>\n",
              "      <th>CountryRegion</th>\n",
              "      <th>Confirmed</th>\n",
              "      <th>Recovered</th>\n",
              "      <th>Deaths</th>\n",
              "      <th>country,</th>\n",
              "      <th>region</th>\n",
              "    </tr>\n",
              "  </thead>\n",
              "  <tbody>\n",
              "    <tr>\n",
              "      <th>0</th>\n",
              "      <td>1/22/2020</td>\n",
              "      <td>Ghana;Africa</td>\n",
              "      <td>NaN</td>\n",
              "      <td>NaN</td>\n",
              "      <td>0.0</td>\n",
              "      <td>Ghana</td>\n",
              "      <td>Africa</td>\n",
              "    </tr>\n",
              "    <tr>\n",
              "      <th>1</th>\n",
              "      <td>1/22/2020</td>\n",
              "      <td>Greece;Europe</td>\n",
              "      <td>NaN</td>\n",
              "      <td>NaN</td>\n",
              "      <td>0.0</td>\n",
              "      <td>Greece</td>\n",
              "      <td>Europe</td>\n",
              "    </tr>\n",
              "    <tr>\n",
              "      <th>2</th>\n",
              "      <td>1/22/2020</td>\n",
              "      <td>Iceland;Europe</td>\n",
              "      <td>0.0</td>\n",
              "      <td>NaN</td>\n",
              "      <td>0.0</td>\n",
              "      <td>Iceland</td>\n",
              "      <td>Europe</td>\n",
              "    </tr>\n",
              "    <tr>\n",
              "      <th>3</th>\n",
              "      <td>1/22/2020</td>\n",
              "      <td>India;Asia</td>\n",
              "      <td>0.0</td>\n",
              "      <td>NaN</td>\n",
              "      <td>0.0</td>\n",
              "      <td>India</td>\n",
              "      <td>Asia</td>\n",
              "    </tr>\n",
              "    <tr>\n",
              "      <th>4</th>\n",
              "      <td>1/22/2020</td>\n",
              "      <td>Indonesia;Asia</td>\n",
              "      <td>0.0</td>\n",
              "      <td>NaN</td>\n",
              "      <td>0.0</td>\n",
              "      <td>Indonesia</td>\n",
              "      <td>Asia</td>\n",
              "    </tr>\n",
              "    <tr>\n",
              "      <th>5</th>\n",
              "      <td>1/22/2020</td>\n",
              "      <td>Iran;Asia</td>\n",
              "      <td>0.0</td>\n",
              "      <td>NaN</td>\n",
              "      <td>0.0</td>\n",
              "      <td>Iran</td>\n",
              "      <td>Asia</td>\n",
              "    </tr>\n",
              "    <tr>\n",
              "      <th>6</th>\n",
              "      <td>1/22/2020</td>\n",
              "      <td>Iraq;Asia</td>\n",
              "      <td>0.0</td>\n",
              "      <td>NaN</td>\n",
              "      <td>NaN</td>\n",
              "      <td>Iraq</td>\n",
              "      <td>Asia</td>\n",
              "    </tr>\n",
              "    <tr>\n",
              "      <th>7</th>\n",
              "      <td>1/22/2020</td>\n",
              "      <td>Ireland;Europe</td>\n",
              "      <td>0.0</td>\n",
              "      <td>NaN</td>\n",
              "      <td>NaN</td>\n",
              "      <td>Ireland</td>\n",
              "      <td>Europe</td>\n",
              "    </tr>\n",
              "    <tr>\n",
              "      <th>8</th>\n",
              "      <td>6/6/2020</td>\n",
              "      <td>Guinea;Africa</td>\n",
              "      <td>4117.0</td>\n",
              "      <td>2857.0</td>\n",
              "      <td>23.0</td>\n",
              "      <td>Guinea</td>\n",
              "      <td>Africa</td>\n",
              "    </tr>\n",
              "    <tr>\n",
              "      <th>9</th>\n",
              "      <td>6/6/2020</td>\n",
              "      <td>Guyana;South America</td>\n",
              "      <td>154.0</td>\n",
              "      <td>80.0</td>\n",
              "      <td>12.0</td>\n",
              "      <td>Guyana</td>\n",
              "      <td>South America</td>\n",
              "    </tr>\n",
              "    <tr>\n",
              "      <th>10</th>\n",
              "      <td>6/6/2020</td>\n",
              "      <td>Haiti;North America</td>\n",
              "      <td>3072.0</td>\n",
              "      <td>24.0</td>\n",
              "      <td>50.0</td>\n",
              "      <td>Haiti</td>\n",
              "      <td>North America</td>\n",
              "    </tr>\n",
              "    <tr>\n",
              "      <th>11</th>\n",
              "      <td>6/6/2020</td>\n",
              "      <td>Holy See;Unknown</td>\n",
              "      <td>12.0</td>\n",
              "      <td>12.0</td>\n",
              "      <td>0.0</td>\n",
              "      <td>Holy See</td>\n",
              "      <td>Unknown</td>\n",
              "    </tr>\n",
              "    <tr>\n",
              "      <th>12</th>\n",
              "      <td>6/6/2020</td>\n",
              "      <td>Indonesia;Asia</td>\n",
              "      <td>30514.0</td>\n",
              "      <td>9907.0</td>\n",
              "      <td>1801.0</td>\n",
              "      <td>Indonesia</td>\n",
              "      <td>Asia</td>\n",
              "    </tr>\n",
              "    <tr>\n",
              "      <th>13</th>\n",
              "      <td>6/6/2020</td>\n",
              "      <td>Iran;Asia</td>\n",
              "      <td>169425.0</td>\n",
              "      <td>132038.0</td>\n",
              "      <td>8209.0</td>\n",
              "      <td>Iran</td>\n",
              "      <td>Asia</td>\n",
              "    </tr>\n",
              "    <tr>\n",
              "      <th>14</th>\n",
              "      <td>6/6/2020</td>\n",
              "      <td>Iraq;Asia</td>\n",
              "      <td>11098.0</td>\n",
              "      <td>4904.0</td>\n",
              "      <td>318.0</td>\n",
              "      <td>Iraq</td>\n",
              "      <td>Asia</td>\n",
              "    </tr>\n",
              "    <tr>\n",
              "      <th>15</th>\n",
              "      <td>6/6/2020</td>\n",
              "      <td>Ireland;Europe</td>\n",
              "      <td>25183.0</td>\n",
              "      <td>22698.0</td>\n",
              "      <td>1678.0</td>\n",
              "      <td>Ireland</td>\n",
              "      <td>Europe</td>\n",
              "    </tr>\n",
              "    <tr>\n",
              "      <th>16</th>\n",
              "      <td>6/6/2020</td>\n",
              "      <td>Israel;Asia</td>\n",
              "      <td>17752.0</td>\n",
              "      <td>15042.0</td>\n",
              "      <td>295.0</td>\n",
              "      <td>Israel</td>\n",
              "      <td>Asia</td>\n",
              "    </tr>\n",
              "    <tr>\n",
              "      <th>17</th>\n",
              "      <td>6/6/2020</td>\n",
              "      <td>Italy;Europe</td>\n",
              "      <td>234801.0</td>\n",
              "      <td>165078.0</td>\n",
              "      <td>33846.0</td>\n",
              "      <td>Italy</td>\n",
              "      <td>Europe</td>\n",
              "    </tr>\n",
              "  </tbody>\n",
              "</table>\n",
              "</div>"
            ],
            "text/plain": [
              "         Date         CountryRegion  ...   country,         region\n",
              "0   1/22/2020          Ghana;Africa  ...      Ghana         Africa\n",
              "1   1/22/2020         Greece;Europe  ...     Greece         Europe\n",
              "2   1/22/2020        Iceland;Europe  ...    Iceland         Europe\n",
              "3   1/22/2020            India;Asia  ...      India           Asia\n",
              "4   1/22/2020        Indonesia;Asia  ...  Indonesia           Asia\n",
              "5   1/22/2020             Iran;Asia  ...       Iran           Asia\n",
              "6   1/22/2020             Iraq;Asia  ...       Iraq           Asia\n",
              "7   1/22/2020        Ireland;Europe  ...    Ireland         Europe\n",
              "8    6/6/2020         Guinea;Africa  ...     Guinea         Africa\n",
              "9    6/6/2020  Guyana;South America  ...     Guyana  South America\n",
              "10   6/6/2020   Haiti;North America  ...      Haiti  North America\n",
              "11   6/6/2020      Holy See;Unknown  ...   Holy See        Unknown\n",
              "12   6/6/2020        Indonesia;Asia  ...  Indonesia           Asia\n",
              "13   6/6/2020             Iran;Asia  ...       Iran           Asia\n",
              "14   6/6/2020             Iraq;Asia  ...       Iraq           Asia\n",
              "15   6/6/2020        Ireland;Europe  ...    Ireland         Europe\n",
              "16   6/6/2020           Israel;Asia  ...     Israel           Asia\n",
              "17   6/6/2020          Italy;Europe  ...      Italy         Europe\n",
              "\n",
              "[18 rows x 7 columns]"
            ]
          },
          "metadata": {},
          "execution_count": 10
        }
      ]
    },
    {
      "cell_type": "markdown",
      "metadata": {
        "id": "64SsMQvuOTbZ"
      },
      "source": [
        "Example 6:"
      ]
    },
    {
      "cell_type": "code",
      "metadata": {
        "id": "oh_gwLadOYJ7"
      },
      "source": [
        "def substitute_region(x_df):\n",
        "    mapping={'Africa':'AF', 'Asia':'AS','Europe':'EU','South America':'SA','North America':'NA'}\n",
        "    x_df['region']=x_df['region'].map(mapping)\n",
        "    return x_df"
      ],
      "execution_count": 12,
      "outputs": []
    },
    {
      "cell_type": "code",
      "metadata": {
        "id": "g7GpUkKfOdNu",
        "outputId": "72b56877-92f1-4986-8be2-f1ec7f6647d6",
        "colab": {
          "base_uri": "https://localhost:8080/",
          "height": 620
        }
      },
      "source": [
        "res=(res.pipe(substitute_region))\n",
        "res"
      ],
      "execution_count": 13,
      "outputs": [
        {
          "output_type": "execute_result",
          "data": {
            "text/html": [
              "<div>\n",
              "<style scoped>\n",
              "    .dataframe tbody tr th:only-of-type {\n",
              "        vertical-align: middle;\n",
              "    }\n",
              "\n",
              "    .dataframe tbody tr th {\n",
              "        vertical-align: top;\n",
              "    }\n",
              "\n",
              "    .dataframe thead th {\n",
              "        text-align: right;\n",
              "    }\n",
              "</style>\n",
              "<table border=\"1\" class=\"dataframe\">\n",
              "  <thead>\n",
              "    <tr style=\"text-align: right;\">\n",
              "      <th></th>\n",
              "      <th>Date</th>\n",
              "      <th>CountryRegion</th>\n",
              "      <th>Confirmed</th>\n",
              "      <th>Recovered</th>\n",
              "      <th>Deaths</th>\n",
              "      <th>country,</th>\n",
              "      <th>region</th>\n",
              "    </tr>\n",
              "  </thead>\n",
              "  <tbody>\n",
              "    <tr>\n",
              "      <th>0</th>\n",
              "      <td>1/22/2020</td>\n",
              "      <td>Ghana;Africa</td>\n",
              "      <td>NaN</td>\n",
              "      <td>NaN</td>\n",
              "      <td>0.0</td>\n",
              "      <td>Ghana</td>\n",
              "      <td>AF</td>\n",
              "    </tr>\n",
              "    <tr>\n",
              "      <th>1</th>\n",
              "      <td>1/22/2020</td>\n",
              "      <td>Greece;Europe</td>\n",
              "      <td>NaN</td>\n",
              "      <td>NaN</td>\n",
              "      <td>0.0</td>\n",
              "      <td>Greece</td>\n",
              "      <td>EU</td>\n",
              "    </tr>\n",
              "    <tr>\n",
              "      <th>2</th>\n",
              "      <td>1/22/2020</td>\n",
              "      <td>Iceland;Europe</td>\n",
              "      <td>0.0</td>\n",
              "      <td>NaN</td>\n",
              "      <td>0.0</td>\n",
              "      <td>Iceland</td>\n",
              "      <td>EU</td>\n",
              "    </tr>\n",
              "    <tr>\n",
              "      <th>3</th>\n",
              "      <td>1/22/2020</td>\n",
              "      <td>India;Asia</td>\n",
              "      <td>0.0</td>\n",
              "      <td>NaN</td>\n",
              "      <td>0.0</td>\n",
              "      <td>India</td>\n",
              "      <td>AS</td>\n",
              "    </tr>\n",
              "    <tr>\n",
              "      <th>4</th>\n",
              "      <td>1/22/2020</td>\n",
              "      <td>Indonesia;Asia</td>\n",
              "      <td>0.0</td>\n",
              "      <td>NaN</td>\n",
              "      <td>0.0</td>\n",
              "      <td>Indonesia</td>\n",
              "      <td>AS</td>\n",
              "    </tr>\n",
              "    <tr>\n",
              "      <th>5</th>\n",
              "      <td>1/22/2020</td>\n",
              "      <td>Iran;Asia</td>\n",
              "      <td>0.0</td>\n",
              "      <td>NaN</td>\n",
              "      <td>0.0</td>\n",
              "      <td>Iran</td>\n",
              "      <td>AS</td>\n",
              "    </tr>\n",
              "    <tr>\n",
              "      <th>6</th>\n",
              "      <td>1/22/2020</td>\n",
              "      <td>Iraq;Asia</td>\n",
              "      <td>0.0</td>\n",
              "      <td>NaN</td>\n",
              "      <td>NaN</td>\n",
              "      <td>Iraq</td>\n",
              "      <td>AS</td>\n",
              "    </tr>\n",
              "    <tr>\n",
              "      <th>7</th>\n",
              "      <td>1/22/2020</td>\n",
              "      <td>Ireland;Europe</td>\n",
              "      <td>0.0</td>\n",
              "      <td>NaN</td>\n",
              "      <td>NaN</td>\n",
              "      <td>Ireland</td>\n",
              "      <td>EU</td>\n",
              "    </tr>\n",
              "    <tr>\n",
              "      <th>8</th>\n",
              "      <td>6/6/2020</td>\n",
              "      <td>Guinea;Africa</td>\n",
              "      <td>4117.0</td>\n",
              "      <td>2857.0</td>\n",
              "      <td>23.0</td>\n",
              "      <td>Guinea</td>\n",
              "      <td>AF</td>\n",
              "    </tr>\n",
              "    <tr>\n",
              "      <th>9</th>\n",
              "      <td>6/6/2020</td>\n",
              "      <td>Guyana;South America</td>\n",
              "      <td>154.0</td>\n",
              "      <td>80.0</td>\n",
              "      <td>12.0</td>\n",
              "      <td>Guyana</td>\n",
              "      <td>SA</td>\n",
              "    </tr>\n",
              "    <tr>\n",
              "      <th>10</th>\n",
              "      <td>6/6/2020</td>\n",
              "      <td>Haiti;North America</td>\n",
              "      <td>3072.0</td>\n",
              "      <td>24.0</td>\n",
              "      <td>50.0</td>\n",
              "      <td>Haiti</td>\n",
              "      <td>NA</td>\n",
              "    </tr>\n",
              "    <tr>\n",
              "      <th>11</th>\n",
              "      <td>6/6/2020</td>\n",
              "      <td>Holy See;Unknown</td>\n",
              "      <td>12.0</td>\n",
              "      <td>12.0</td>\n",
              "      <td>0.0</td>\n",
              "      <td>Holy See</td>\n",
              "      <td>NaN</td>\n",
              "    </tr>\n",
              "    <tr>\n",
              "      <th>12</th>\n",
              "      <td>6/6/2020</td>\n",
              "      <td>Indonesia;Asia</td>\n",
              "      <td>30514.0</td>\n",
              "      <td>9907.0</td>\n",
              "      <td>1801.0</td>\n",
              "      <td>Indonesia</td>\n",
              "      <td>AS</td>\n",
              "    </tr>\n",
              "    <tr>\n",
              "      <th>13</th>\n",
              "      <td>6/6/2020</td>\n",
              "      <td>Iran;Asia</td>\n",
              "      <td>169425.0</td>\n",
              "      <td>132038.0</td>\n",
              "      <td>8209.0</td>\n",
              "      <td>Iran</td>\n",
              "      <td>AS</td>\n",
              "    </tr>\n",
              "    <tr>\n",
              "      <th>14</th>\n",
              "      <td>6/6/2020</td>\n",
              "      <td>Iraq;Asia</td>\n",
              "      <td>11098.0</td>\n",
              "      <td>4904.0</td>\n",
              "      <td>318.0</td>\n",
              "      <td>Iraq</td>\n",
              "      <td>AS</td>\n",
              "    </tr>\n",
              "    <tr>\n",
              "      <th>15</th>\n",
              "      <td>6/6/2020</td>\n",
              "      <td>Ireland;Europe</td>\n",
              "      <td>25183.0</td>\n",
              "      <td>22698.0</td>\n",
              "      <td>1678.0</td>\n",
              "      <td>Ireland</td>\n",
              "      <td>EU</td>\n",
              "    </tr>\n",
              "    <tr>\n",
              "      <th>16</th>\n",
              "      <td>6/6/2020</td>\n",
              "      <td>Israel;Asia</td>\n",
              "      <td>17752.0</td>\n",
              "      <td>15042.0</td>\n",
              "      <td>295.0</td>\n",
              "      <td>Israel</td>\n",
              "      <td>AS</td>\n",
              "    </tr>\n",
              "    <tr>\n",
              "      <th>17</th>\n",
              "      <td>6/6/2020</td>\n",
              "      <td>Italy;Europe</td>\n",
              "      <td>234801.0</td>\n",
              "      <td>165078.0</td>\n",
              "      <td>33846.0</td>\n",
              "      <td>Italy</td>\n",
              "      <td>EU</td>\n",
              "    </tr>\n",
              "  </tbody>\n",
              "</table>\n",
              "</div>"
            ],
            "text/plain": [
              "         Date         CountryRegion  Confirmed  ...   Deaths   country, region\n",
              "0   1/22/2020          Ghana;Africa        NaN  ...      0.0      Ghana     AF\n",
              "1   1/22/2020         Greece;Europe        NaN  ...      0.0     Greece     EU\n",
              "2   1/22/2020        Iceland;Europe        0.0  ...      0.0    Iceland     EU\n",
              "3   1/22/2020            India;Asia        0.0  ...      0.0      India     AS\n",
              "4   1/22/2020        Indonesia;Asia        0.0  ...      0.0  Indonesia     AS\n",
              "5   1/22/2020             Iran;Asia        0.0  ...      0.0       Iran     AS\n",
              "6   1/22/2020             Iraq;Asia        0.0  ...      NaN       Iraq     AS\n",
              "7   1/22/2020        Ireland;Europe        0.0  ...      NaN    Ireland     EU\n",
              "8    6/6/2020         Guinea;Africa     4117.0  ...     23.0     Guinea     AF\n",
              "9    6/6/2020  Guyana;South America      154.0  ...     12.0     Guyana     SA\n",
              "10   6/6/2020   Haiti;North America     3072.0  ...     50.0      Haiti     NA\n",
              "11   6/6/2020      Holy See;Unknown       12.0  ...      0.0   Holy See    NaN\n",
              "12   6/6/2020        Indonesia;Asia    30514.0  ...   1801.0  Indonesia     AS\n",
              "13   6/6/2020             Iran;Asia   169425.0  ...   8209.0       Iran     AS\n",
              "14   6/6/2020             Iraq;Asia    11098.0  ...    318.0       Iraq     AS\n",
              "15   6/6/2020        Ireland;Europe    25183.0  ...   1678.0    Ireland     EU\n",
              "16   6/6/2020           Israel;Asia    17752.0  ...    295.0     Israel     AS\n",
              "17   6/6/2020          Italy;Europe   234801.0  ...  33846.0      Italy     EU\n",
              "\n",
              "[18 rows x 7 columns]"
            ]
          },
          "metadata": {},
          "execution_count": 13
        }
      ]
    },
    {
      "cell_type": "markdown",
      "metadata": {
        "id": "X4JnYpP0Qjva"
      },
      "source": [
        "Example 7: chia nhỏ thành ba có kích thước bằng nhau"
      ]
    },
    {
      "cell_type": "code",
      "metadata": {
        "id": "LwzuImMUQnWw"
      },
      "source": [
        "import pandas as pd\n",
        "import numpy as np\n",
        "a = pd.cut(np.array([1, 7, 5, 4, 6, 3]), 3)"
      ],
      "execution_count": 15,
      "outputs": []
    },
    {
      "cell_type": "code",
      "metadata": {
        "id": "sb27LHnNQ5_D",
        "outputId": "20671561-7295-4ed1-859f-0f5d5e5bf6ef",
        "colab": {
          "base_uri": "https://localhost:8080/"
        }
      },
      "source": [
        "a"
      ],
      "execution_count": 16,
      "outputs": [
        {
          "output_type": "execute_result",
          "data": {
            "text/plain": [
              "[(0.994, 3.0], (5.0, 7.0], (3.0, 5.0], (3.0, 5.0], (5.0, 7.0], (0.994, 3.0]]\n",
              "Categories (3, interval[float64]): [(0.994, 3.0] < (3.0, 5.0] < (5.0, 7.0]]"
            ]
          },
          "metadata": {},
          "execution_count": 16
        }
      ]
    },
    {
      "cell_type": "markdown",
      "metadata": {
        "id": "82keloQNRBU2"
      },
      "source": [
        "Example 8: Khám phá những phần giống nhau, dán nhãn cụ thể cho chúng.Lưu ý rằng các danh mục của Categorical được trả lại là nhãn và được sắp xếp theo thứ tự"
      ]
    },
    {
      "cell_type": "code",
      "metadata": {
        "id": "EyZddl-RRZIv",
        "outputId": "0204d8c6-cf55-4a88-fc63-705a4d99ea56",
        "colab": {
          "base_uri": "https://localhost:8080/"
        }
      },
      "source": [
        "import pandas as pd\n",
        "import numpy as np\n",
        "pd.cut(np.array([1, 7, 5, 4, 6, 3]),bins = 3, labels=[\"bad\", \"medium\", \"good\"])"
      ],
      "execution_count": 17,
      "outputs": [
        {
          "output_type": "execute_result",
          "data": {
            "text/plain": [
              "['bad', 'good', 'medium', 'medium', 'good', 'bad']\n",
              "Categories (3, object): ['bad' < 'medium' < 'good']"
            ]
          },
          "metadata": {},
          "execution_count": 17
        }
      ]
    },
    {
      "cell_type": "markdown",
      "metadata": {
        "id": "D4JOfejVRqyx"
      },
      "source": [
        "Example9: Order = false sẽ dẫn đến các danh mục không có thứ tự khi các nhãn được chuyển qua. Tham số này có thể được sử dụng để cho phéo các nhãn không phải là duy nhất."
      ]
    },
    {
      "cell_type": "code",
      "metadata": {
        "id": "Cy-w5gqoR_Ln",
        "outputId": "f10c9b30-acb2-4e7f-9220-cada5460740d",
        "colab": {
          "base_uri": "https://localhost:8080/"
        }
      },
      "source": [
        "import pandas as pd\n",
        "import numpy as np\n",
        "pd.cut(np.array([1, 7, 5, 4, 6, 3]), 3,labels=[\"B\", \"A\", \"B\"], ordered=False)"
      ],
      "execution_count": 18,
      "outputs": [
        {
          "output_type": "execute_result",
          "data": {
            "text/plain": [
              "['B', 'B', 'A', 'A', 'B', 'B']\n",
              "Categories (2, object): ['A', 'B']"
            ]
          },
          "metadata": {},
          "execution_count": 18
        }
      ]
    },
    {
      "cell_type": "markdown",
      "metadata": {
        "id": "d6efHPk-SEna"
      },
      "source": [
        "Example10: Chuyển đổi các trường hợp đã xác nhận thành 3 catorories: normal (<3000), medium ( <5000), and worst (>5000)"
      ]
    },
    {
      "cell_type": "code",
      "metadata": {
        "id": "ETgUwYRgSUDc"
      },
      "source": [
        "def create_evaluation_group(x_df):\n",
        "    bins=[0.0, 3000, 5000, sys.maxsize]\n",
        "    labels=['normal', 'medium', 'worst']\n",
        "    evaluationGroup=pd.cut(x_df['Confirmed'], bins=bins, labels=labels,include_lowest=True)\n",
        "    x_df['Evaluation']=evaluationGroup\n",
        "    return x_df"
      ],
      "execution_count": 28,
      "outputs": []
    },
    {
      "cell_type": "code",
      "metadata": {
        "id": "PbDGAtkEUhO2"
      },
      "source": [
        "res=(res.pipe(create_evaluation_group))\n",
        "res"
      ],
      "execution_count": null,
      "outputs": []
    }
  ]
}