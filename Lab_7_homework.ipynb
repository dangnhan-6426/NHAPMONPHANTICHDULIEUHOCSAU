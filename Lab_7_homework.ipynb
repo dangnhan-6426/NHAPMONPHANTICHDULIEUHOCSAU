{
  "nbformat": 4,
  "nbformat_minor": 0,
  "metadata": {
    "colab": {
      "name": "Welcome To Colaboratory",
      "provenance": [],
      "collapsed_sections": [],
      "include_colab_link": true
    },
    "kernelspec": {
      "display_name": "Python 3",
      "name": "python3"
    }
  },
  "cells": [
    {
      "cell_type": "markdown",
      "metadata": {
        "id": "view-in-github",
        "colab_type": "text"
      },
      "source": [
        "<a href=\"https://colab.research.google.com/github/Gau-6426/NHAPMONPHANTICHDULIEUHOCSAU/blob/main/Lab_7_homework.ipynb\" target=\"_parent\"><img src=\"https://colab.research.google.com/assets/colab-badge.svg\" alt=\"Open In Colab\"/></a>"
      ]
    },
    {
      "cell_type": "markdown",
      "metadata": {
        "id": "vyTQAyeKnpVT"
      },
      "source": [
        "# **Bài tập:**\n",
        "1. Thực hiện bài nhận dạng chữ viết tay với thứ viện Keras\n",
        "2. Phân loại ảnh với dữ liệu CIF AR 10 dataset bao gồm 50.000 training set và 10.000 test set ảnh màu kích thước 32x32 cho 10 thể loại khác nhau (máy bay, ô tô, thuyền, chim, chó, mèo, ngựa...)"
      ]
    },
    {
      "cell_type": "code",
      "metadata": {
        "id": "3n0SGOBdniOM"
      },
      "source": [
        "#Thực hiện bài nhận dạng chữ viết tay với thứ viện Keras\n",
        "import numpy as np\n",
        "import matplotlib.pyplot as plt\n",
        "from keras.models import Sequential\n",
        "from keras.layers import Dense, Dropout, Activation, Flatten\n",
        "from keras.layers import Conv2D, MaxPooling2D\n",
        "from keras.utils import np_utils\n",
        "from keras.datasets import cifar10"
      ],
      "execution_count": 14,
      "outputs": []
    },
    {
      "cell_type": "code",
      "metadata": {
        "id": "cJ1kNes9osbn"
      },
      "source": [
        "(train_X,train_Y),(test_X,test_Y)=cifar10.load_data()"
      ],
      "execution_count": 7,
      "outputs": []
    },
    {
      "cell_type": "code",
      "metadata": {
        "id": "A1TxXeKvrM18",
        "outputId": "c6fdb4ed-ecce-4551-8e00-411559801fd0",
        "colab": {
          "base_uri": "https://localhost:8080/"
        }
      },
      "source": [
        "#Phân loại ảnh với dữ liệu CIF AR 10 dataset bao gồm 50.000 training set và 10.000 test set ảnh màu kích thước 32x32 cho 10 thể loại khác nhau (máy bay, ô tô, thuyền, chim, chó, mèo, ngựa...)\n",
        "(X_train, y_train), (X_test, y_test) = cifar10.load_data()\n",
        "print(\"x_train shape\",X_train.shape)"
      ],
      "execution_count": 16,
      "outputs": [
        {
          "output_type": "stream",
          "name": "stdout",
          "text": [
            "x_train shape (50000, 32, 32, 3)\n"
          ]
        }
      ]
    }
  ]
}